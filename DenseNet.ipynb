{
 "cells": [
  {
   "metadata": {
    "ExecuteTime": {
     "end_time": "2025-04-30T22:08:40.080426Z",
     "start_time": "2025-04-30T22:08:34.558864Z"
    }
   },
   "cell_type": "code",
   "source": [
    "import os\n",
    "\n",
    "os.environ['TORCH_USE_CUDA_DSA'] = '1'\n",
    "\n",
    "import matplotlib.pyplot as plt\n",
    "import numpy as np\n",
    "import pandas as pd\n",
    "from PIL import Image\n",
    "import seaborn as sns\n",
    "from sklearn.metrics import confusion_matrix\n",
    "import torch\n",
    "import torch.nn as nn\n",
    "from torch.utils.data import DataLoader, TensorDataset\n",
    "from torchvision.models import densenet121\n",
    "import torch.optim as optim\n",
    "from torch.utils.data import DataLoader\n",
    "from torchvision import transforms\n",
    "\n",
    "device = torch.device(\"cuda\")"
   ],
   "id": "734bc11629061f3a",
   "outputs": [],
   "execution_count": 1
  },
  {
   "metadata": {
    "ExecuteTime": {
     "end_time": "2025-04-30T20:33:04.468272Z",
     "start_time": "2025-04-30T20:33:04.151479Z"
    }
   },
   "cell_type": "code",
   "source": [
    "df = pd.read_excel('oasis_cross-sectional.xlsx')\n",
    "folders = os.listdir(\"Data\")\n",
    "imageData = []\n",
    "for state in folders:\n",
    "    filePath = \"Data\" + \"\\\\\" + state\n",
    "    for fileName in os.listdir(filePath):\n",
    "        if fileName.endswith(\".jpg\") or fileName.endswith(\".png\"):\n",
    "            imageData.append({\"imagePath\": os.path.join(filePath,fileName), \"label\": state})\n",
    "\n",
    "imageDataFrame = pd.DataFrame(imageData)"
   ],
   "id": "690f4063f8b5fe46",
   "outputs": [],
   "execution_count": 63
  },
  {
   "metadata": {
    "ExecuteTime": {
     "end_time": "2025-04-30T20:33:05.709106Z",
     "start_time": "2025-04-30T20:33:05.706459Z"
    }
   },
   "cell_type": "code",
   "source": [
    "class DenseCNN(nn.Module):\n",
    "    def __init__(self):\n",
    "        super(DenseCNN, self).__init__()\n",
    "        self.densenet = densenet121(pretrained=False)\n",
    "\n",
    "    def forward(self, x):\n",
    "        return self.densenet(x)\n"
   ],
   "id": "aa0a12a2f3f8ba60",
   "outputs": [],
   "execution_count": 64
  },
  {
   "metadata": {
    "ExecuteTime": {
     "end_time": "2025-04-30T20:36:36.320890Z",
     "start_time": "2025-04-30T20:33:09.116650Z"
    }
   },
   "cell_type": "code",
   "source": [
    "transform = transforms.Compose([\n",
    "    transforms.Resize((224, 224)),\n",
    "    transforms.ToTensor(),\n",
    "    transforms.Normalize(mean=[0.485, 0.456, 0.406], std=[0.229, 0.224, 0.225])])\n",
    "\n",
    "imageDataFrame = imageDataFrame.sample(frac=0.3).reset_index(drop=True)\n",
    "\n",
    "images = []\n",
    "labels = []\n",
    "for index, row in imageDataFrame.iterrows():\n",
    "    imagePath = row['imagePath']\n",
    "    imageTensor = transform(Image.open(imagePath).convert('RGB'))\n",
    "    if imageTensor is not None:\n",
    "        images.append(transform(Image.open(imagePath).convert('RGB')))\n",
    "        labels.append(row['label'])\n",
    "tensorImages = torch.stack(images)\n",
    "tensorLabels = torch.tensor(pd.factorize(labels)[0])\n",
    "\n",
    "dataset = TensorDataset(tensorImages, tensorLabels)\n",
    "dataloader = DataLoader(TensorDataset(tensorImages, tensorLabels), batch_size=32, shuffle=True)\n",
    "model = DenseCNN().to(device)\n",
    "lossFunction = nn.CrossEntropyLoss()\n",
    "optimizer = optim.Adam(model.parameters(), lr=0.0001)\n",
    "trainingDataset, validationDataset = torch.utils.data.random_split(dataset, [int(0.8 * len(dataset)), len(dataset) - int(0.8 * len(dataset))])\n",
    "trainingDataloader = DataLoader(trainingDataset, batch_size=32, shuffle=True)\n",
    "validationDataloader = DataLoader(validationDataset, batch_size=32, shuffle=True)\n"
   ],
   "id": "1166356718fca6f5",
   "outputs": [
    {
     "name": "stderr",
     "output_type": "stream",
     "text": [
      "C:\\Users\\Shark\\AppData\\Local\\Temp\\ipykernel_3472\\4247233629.py:17: FutureWarning: factorize with argument that is not not a Series, Index, ExtensionArray, or np.ndarray is deprecated and will raise in a future version.\n",
      "  tensorLabels = torch.tensor(pd.factorize(labels)[0])\n",
      "C:\\Users\\Shark\\PycharmProjects\\baseline\\.venv\\Lib\\site-packages\\torchvision\\models\\_utils.py:208: UserWarning: The parameter 'pretrained' is deprecated since 0.13 and may be removed in the future, please use 'weights' instead.\n",
      "  warnings.warn(\n",
      "C:\\Users\\Shark\\PycharmProjects\\baseline\\.venv\\Lib\\site-packages\\torchvision\\models\\_utils.py:223: UserWarning: Arguments other than a weight enum or `None` for 'weights' are deprecated since 0.13 and may be removed in the future. The current behavior is equivalent to passing `weights=None`.\n",
      "  warnings.warn(msg)\n"
     ]
    }
   ],
   "execution_count": 65
  },
  {
   "metadata": {
    "ExecuteTime": {
     "end_time": "2025-04-30T20:36:45.695698Z",
     "start_time": "2025-04-30T20:36:45.660216Z"
    }
   },
   "cell_type": "code",
   "source": [
    "def train(model, optimizer, epochs):\n",
    "    model.train()\n",
    "    print(\"Training for\", epochs, \"epochs\")\n",
    "    for epoch in range(0, epochs):\n",
    "        model.train()\n",
    "        trainingLoss = 0.0\n",
    "        correct = 0\n",
    "        total = 0\n",
    "        for inputs, labels in trainingDataloader:\n",
    "            inputs, labels = inputs.to(device), labels.to(device)\n",
    "\n",
    "            optimizer.zero_grad()\n",
    "            outputs = model(inputs)\n",
    "            loss = lossFunction(outputs, labels)\n",
    "            loss.backward()\n",
    "            optimizer.step()\n",
    "\n",
    "            trainingLoss += loss.item()\n",
    "            predicted = torch.max(outputs.data, 1)[1]\n",
    "            total += labels.size(0)\n",
    "            correct += (predicted == labels).sum().item()\n",
    "        trainingLoss /= len(trainingDataloader)\n",
    "        trainingAccuracy = correct / total\n",
    "\n",
    "        model.eval()\n",
    "        validationLoss = 0.0\n",
    "        correct = 0\n",
    "        total = 0\n",
    "\n",
    "        with torch.no_grad():\n",
    "            for inputs, labels in validationDataloader:\n",
    "                inputs, labels = inputs.to(device), labels.to(device)\n",
    "                outputs = model(inputs)\n",
    "                loss = lossFunction(outputs, labels)\n",
    "                validationLoss += loss.item()\n",
    "                predicted = torch.max(outputs.data, 1)[1]\n",
    "                total += labels.size(0)\n",
    "                correct += (predicted == labels).sum().item()\n",
    "\n",
    "        validationLoss /= len(validationDataloader)\n",
    "        val_accuracy = correct / total\n",
    "        print(\"Epoch: \", epoch+1, \" | Training loss: \", round(trainingLoss, 3), \" | Validation loss: \", round(validationLoss, 3), \" | Training accuracy: \", round(trainingAccuracy, 3), \" | Validation accuracy: \", round(val_accuracy, 3))"
   ],
   "id": "5f3f35123d84235b",
   "outputs": [],
   "execution_count": 66
  },
  {
   "metadata": {
    "ExecuteTime": {
     "end_time": "2025-04-30T20:50:23.631694Z",
     "start_time": "2025-04-30T20:36:53.436575Z"
    }
   },
   "cell_type": "code",
   "source": [
    "device = torch.device(\"cuda\")\n",
    "\n",
    "os.environ[\"CUDA_LAUNCH_BLOCKING\"] = \"1\"\n",
    "os.environ[\"TORCH_USE_CUDA_DSA\"] = \"1\"\n",
    "\n",
    "train(model, optimizer, 10)"
   ],
   "id": "f32509b468152d4c",
   "outputs": [
    {
     "name": "stdout",
     "output_type": "stream",
     "text": [
      "Training for 10 epochs\n",
      "Epoch:  1  | Training loss:  0.805  | Validation loss:  0.284  | Training accuracy:  0.819  | Validation accuracy:  0.894\n",
      "Epoch:  2  | Training loss:  0.171  | Validation loss:  0.264  | Training accuracy:  0.941  | Validation accuracy:  0.911\n",
      "Epoch:  3  | Training loss:  0.072  | Validation loss:  0.092  | Training accuracy:  0.977  | Validation accuracy:  0.965\n",
      "Epoch:  4  | Training loss:  0.045  | Validation loss:  0.147  | Training accuracy:  0.986  | Validation accuracy:  0.947\n",
      "Epoch:  5  | Training loss:  0.029  | Validation loss:  0.024  | Training accuracy:  0.991  | Validation accuracy:  0.993\n",
      "Epoch:  6  | Training loss:  0.027  | Validation loss:  0.072  | Training accuracy:  0.992  | Validation accuracy:  0.973\n",
      "Epoch:  7  | Training loss:  0.02  | Validation loss:  0.106  | Training accuracy:  0.994  | Validation accuracy:  0.971\n",
      "Epoch:  8  | Training loss:  0.025  | Validation loss:  0.067  | Training accuracy:  0.991  | Validation accuracy:  0.975\n",
      "Epoch:  9  | Training loss:  0.02  | Validation loss:  0.065  | Training accuracy:  0.994  | Validation accuracy:  0.984\n",
      "Epoch:  10  | Training loss:  0.017  | Validation loss:  0.026  | Training accuracy:  0.994  | Validation accuracy:  0.989\n"
     ]
    }
   ],
   "execution_count": 67
  },
  {
   "metadata": {
    "ExecuteTime": {
     "end_time": "2025-04-30T20:55:27.369259Z",
     "start_time": "2025-04-30T20:55:22.188431Z"
    }
   },
   "cell_type": "code",
   "source": [
    "confusionPredictions = []\n",
    "confusionLabels = []\n",
    "with torch.no_grad():\n",
    "        for inputs, labels in validationDataloader:\n",
    "            inputs, labels = inputs.to(device), labels.to(device)\n",
    "            outputs = model(inputs)\n",
    "            predicted = torch.max(outputs.data, 1)[1]\n",
    "            confusionPredictions.extend(labels.cpu().numpy())\n",
    "            confusionLabels.extend(predicted.cpu().numpy())\n",
    "y_true, y_pred = np.array(confusionLabels), np.array(confusionPredictions)\n",
    "cm = confusion_matrix(y_true, y_pred)\n",
    "plt.figure(figsize=(10, 8))\n",
    "classNames = imageDataFrame['label'].unique()\n",
    "sns.heatmap(cm, annot=True, fmt='d', xticklabels=classNames, yticklabels=classNames)\n",
    "plt.xlabel('Predicted')\n",
    "plt.ylabel('True')\n",
    "plt.title('Confusion Matrix')\n",
    "plt.show()"
   ],
   "id": "a06da0e26bc76dce",
   "outputs": [
    {
     "data": {
      "text/plain": [
       "<Figure size 1000x800 with 2 Axes>"
      ],
      "image/png": "[encoded data removed]"
     },
     "metadata": {},
     "output_type": "display_data"
    }
   ],
   "execution_count": 68
  }
 ],
 "metadata": {
  "kernelspec": {
   "display_name": "Python 3",
   "language": "python",
   "name": "python3"
  },
  "language_info": {
   "codemirror_mode": {
    "name": "ipython",
    "version": 2
   },
   "file_extension": ".py",
   "mimetype": "text/x-python",
   "name": "python",
   "nbconvert_exporter": "python",
   "pygments_lexer": "ipython2",
   "version": "2.7.6"
  }
 },
 "nbformat": 4,
 "nbformat_minor": 5
}
